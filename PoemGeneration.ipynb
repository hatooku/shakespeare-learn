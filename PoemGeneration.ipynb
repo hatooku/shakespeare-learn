{
 "cells": [
  {
   "cell_type": "code",
   "execution_count": 272,
   "metadata": {
    "collapsed": false
   },
   "outputs": [],
   "source": [
    "import hmm_helper as hh\n",
    "import numpy as np\n",
    "import numpy.core.multiarray\n",
    "import scipy\n",
    "import time\n",
    "import sys\n",
    "\n",
    "reload(hh)\n",
    "syll_dict, stress_dict = hh.load_syll_stress_dicts()"
   ]
  },
  {
   "cell_type": "code",
   "execution_count": 247,
   "metadata": {
    "collapsed": false
   },
   "outputs": [
    {
     "name": "stdout",
     "output_type": "stream",
     "text": [
      "When hours astronomy, o that light's frame \n",
      "The wit. write others' quality, renewest, \n",
      "Hath so the argument kind-hearted fire \n",
      "My him right, lines drink, it those, happy all \n",
      "Then monument fulfil. cannot self been \n",
      "Hill, antique wanton adjunct dead, i, eye \n",
      "Remover tender gift of head, the truth \n",
      "To that I this your down as breast, no \n",
      "Your haste have sake not, that with so \n",
      "O'er whereof thoughts, seen hammered cherubins \n",
      "Hate, all the womb and win! for heavenly \n",
      "Thy here thy shadow every early \n",
      "Or flowers is hope, my tears in him because \n",
      "And lovely be of now should pricked of that \n",
      "\n"
     ]
    }
   ],
   "source": [
    "# Generate poem with 20-state models.\n",
    "q_trans, q_emiss, q_wm, q_init = hh.load_model('30-states-full-quatrains')\n",
    "c_trans, c_emiss, c_wm, c_init = hh.load_model('30-states-full-couplets')\n",
    "poem = hh.gen_poem(q_trans, q_emiss, q_init, q_wm,\n",
    "                   c_trans, c_emiss, c_init, c_wm)\n",
    "print poem"
   ]
  },
  {
   "cell_type": "code",
   "execution_count": 91,
   "metadata": {
    "collapsed": false
   },
   "outputs": [
    {
     "name": "stdout",
     "output_type": "stream",
     "text": [
      "as love and humble fair, should heart, own prone, \n",
      "up-locked slow define, every repay, \n",
      "bear, chose write, leave, body's do unfathered, \n",
      "deface, heart's place? appear. do stop treasure, \n",
      "when lose misuse the conquest argument, \n",
      "of me to make my eyes had honour with wrongs, \n",
      "to me doth all, but that the age, doth be \n",
      "deceivest blame, untrue, deep hand disabled sing: \n",
      "making thee whose i thou not on my fair \n",
      "should this ears willingly i heinous posterity? \n",
      "provoke am knife, shine? open infant's leaves \n",
      "new. show, mayst poet spite untrimmed: lies. riper \n",
      "if thou her, leave than unthrifts, read what may \n",
      "book. worse. went answer time: there's from by may \n",
      "\n"
     ]
    }
   ],
   "source": [
    "# Generate poem with 30-state models.\n",
    "q_trans, q_emiss, q_wm, q_init = hh.load_model('Joon_30_Token2_Quatrain')\n",
    "c_trans, c_emiss, c_wm, c_init = hh.load_model('Joon_30_Token2_Couplet')\n",
    "q_wm = {v: k for k, v in q_wm.items()}\n",
    "c_wm = {v: k for k, v in c_wm.items()}\n",
    "poem = hh.gen_poem(q_trans, q_emiss, q_init, q_wm,\n",
    "                   c_trans, c_emiss, c_init, c_wm)\n",
    "print poem"
   ]
  },
  {
   "cell_type": "code",
   "execution_count": 34,
   "metadata": {
    "collapsed": false
   },
   "outputs": [
    {
     "name": "stdout",
     "output_type": "stream",
     "text": [
      "[('increase,', 'decease,'), ('die,', 'memory:'), ('eyes,', 'lies,'), ('fuel,', 'cruel:'), ('ornament,', 'content,'), ('spring,', 'niggarding:'), ('brow,', 'now,'), ('field,', 'held:'), ('lies,', 'eyes,'), ('days;', 'praise.'), ('use,', \"excuse'\"), ('mine', 'thine.'), ('viewest,', 'renewest,'), ('another,', 'mother.'), ('womb', 'tomb,'), ('husbandry?', 'posterity?'), ('thee', 'see,'), ('prime,', 'time.'), ('spend,', 'lend,'), ('legacy?', 'free:'), ('abuse,', 'use'), ('give?', 'live?'), ('alone,', 'gone,'), ('deceive,', 'leave?'), ('frame', 'same,'), ('dwell', 'excel:'), ('on', 'gone,'), ('there,', 'where:'), ('left', 'bereft,'), ('glass,', 'was.'), ('deface,', 'place,'), ('distilled:', 'self-killed:'), ('usury,', 'thee,'), ('loan;', 'one,'), ('art,', 'depart,'), ('thee:', 'posterity?'), ('light', 'sight,'), ('eye', 'majesty,'), ('hill,', 'still,'), ('age,', 'pilgrimage:'), ('car,', 'are'), ('day,', 'way:'), ('sadly?', 'gladly,'), ('joy:', 'annoy?'), ('sounds,', 'confounds'), ('ear,', 'bear:'), ('another,', 'mother,'), ('ordering;', 'sing:'), ('eye,', 'die,'), ('life?', 'wife,'), ('weep,', 'keep,'), ('behind,', 'mind:'), ('spend', 'end,'), ('it;', 'it:'), ('any', 'many,'), ('unprovident.', 'evident:'), ('hate,', 'ruinate'), ('conspire,', 'desire:'), ('mind,', 'kind,'), ('love?', 'prove,'), (\"grow'st,\", \"bestow'st,\"), ('departest,', 'convertest,'), ('increase,', 'cease,'), ('decay,', 'away:'), ('store,', 'more;'), ('perish:', 'cherish:'), ('time,', 'prime,'), ('night,', 'white:'), ('leaves,', 'sheaves'), ('herd', 'beard:'), ('make', 'forsake,'), ('go,', 'grow,'), ('are', 'prepare,'), ('live,', 'give.'), ('lease', 'decease,'), ('were', 'bear.'), ('decay,', 'day'), ('uphold,', 'cold?'), ('pluck,', 'luck,'), ('astronomy,', 'quality,'), ('tell;', 'well'), ('wind,', 'find.'), ('derive,', 'thrive'), ('art', 'convert:'), ('grows', 'shows'), ('moment.', 'comment.'), ('increase,', 'decrease,'), ('sky:', 'memory.'), ('stay,', 'decay'), ('sight,', 'night,'), ('way', 'decay'), ('time?', 'rhyme?'), ('hours,', 'flowers,'), ('unset,', 'counterfeit:'), ('repair', 'fair'), ('pen', 'men.'), ('come', 'tomb'), ('deserts?', 'parts:'), ('eyes,', 'lies,'), ('graces,', 'faces.'), ('age)', 'rage,'), ('tongue,', 'song.'), ('day?', 'may,'), ('temperate:', 'date:'), ('shines,', 'declines,'), ('dimmed,', 'untrimmed:'), ('fade,', 'shade,'), (\"ow'st,\", \"grow'st,\"), ('paws,', 'jaws,'), ('brood,', 'blood,'), (\"fleet'st,\", 'sweets:'), ('time', 'crime,'), ('brow,', 'allow,'), ('pen,', 'men.'), ('painted,', 'acquainted'), ('passion,', 'fashion,'), ('rolling:', 'controlling,'), ('gazeth,', 'amazeth.'), ('created,', 'defeated,'), ('a-doting,', 'nothing.'), ('muse,', 'use,'), ('verse,', 'rehearse,'), ('compare', 'rare,'), ('gems:', 'hems.'), ('write,', 'bright'), ('fair,', 'air:'), ('old,', 'behold,'), ('date,', 'expiate.'), ('thee,', 'me,'), ('heart,', 'art?'), ('wary,', 'chary'), ('will,', 'ill.'), ('stage,', 'rage,'), ('part,', 'heart;'), ('say,', 'decay,'), ('rite,', 'might:'), ('eloquence,', 'recompense,'), ('breast,', 'expressed.'), ('stelled,', 'held,'), ('heart,', 'art.'), ('skill,', 'still,'), ('lies,', 'eyes:'), ('done,', 'sun'), ('me', 'thee;'), ('stars,', 'bars'), ('boast,', 'most;'), ('spread,', 'buried,'), ('eye,', 'die.'), ('fight,', 'quite,'), ('foiled,', 'toiled:'), ('vassalage', 'embassage'), ('knit;', 'wit.'), ('mine', 'thine'), ('it;', 'it:'), ('moving,', 'loving,'), ('aspect,', 'respect,'), ('bed,', 'head'), ('tired,', 'expired.'), ('abide)', 'wide,'), ('thee,', 'see.'), ('sight', 'night)'), ('view,', 'new.'), ('plight', 'night,'), ('rest?', 'oppressed.'), ('reign)', 'complain'), ('me,', 'thee.'), ('bright,', 'night,'), ('heaven:', 'even.'), ('eyes,', 'cries,'), ('state,', 'fate,'), ('hope,', 'scope,'), ('possessed,', 'least,'), ('despising,', 'arising'), ('state,', 'gate,'), ('thought,', 'sought,'), ('past,', 'waste:'), ('flow)', 'woe,'), ('night,', 'sight.'), ('foregone,', 'moan,'), (\"o'er\", 'before.'), ('hearts,', 'parts,'), ('dead,', 'buried.'), ('tear', 'appear,'), ('eye,', 'lie.'), ('live,', 'give,'), ('gone,', 'alone.'), ('day,', 're-survey'), ('cover', 'lover:'), ('time,', 'rhyme,'), ('pen,', 'men.'), ('thought,', 'brought'), ('age,', 'equipage:'), ('seen,', 'green;'), ('eye,', 'alchemy:'), ('ride,', 'hide'), ('face,', 'disgrace:'), ('shine,', 'mine,'), ('brow,', 'now.'), ('day,', 'way,'), ('cloak,', 'smoke?'), ('break,', 'speak,'), ('face,', 'disgrace:'), ('grief,', 'relief'), ('loss,', 'cross.'), ('done,', 'sun,'), ('mud,', 'bud.'), ('this,', 'amiss,'), ('compare,', 'are:'), ('sense,', 'commence:'), ('advocate,', 'hate,'), ('twain,', 'remain,'), ('one:', 'alone.'), ('respect,', 'effect,'), ('spite,', 'delight.'), ('thee,', 'me,'), ('shame,', 'name:'), ('delight,', 'spite'), ('youth,', 'truth.'), ('wit,', 'sit,'), ('more', 'store:'), ('despised,', 'sufficed,'), ('give,', 'live:'), ('invent', 'excellent,'), ('verse,', 'rehearse?'), ('me,', 'thee,'), ('sight,', 'light?'), ('worth', 'forth'), ('invocate,', 'date.'), ('sing,', 'bring:'), ('me?', 'thee?'), ('live,', 'give:'), ('one,', 'alone:'), ('prove,', 'love,'), ('leave,', 'deceive.'), ('all,', 'call,'), ('before?', 'more:'), ('receivest,', 'deceivest'), ('usest,', 'refusest.'), ('thief', 'grief'), ('poverty:', 'injury.'), ('commits,', 'befits,'), ('heart,', 'art.'), ('won,', 'son,'), ('assailed.', 'prevailed?'), ('forbear,', 'there'), ('youth,', 'truth:'), ('grief,', 'chief,'), ('dearly,', 'nearly.'), ('ye,', 'me,'), ('her,', 'her.'), ('gain,', 'twain,'), ('loss,', 'cross,'), ('see,', 'thee,'), ('unrespected,', 'directed.'), ('bright', 'light,'), ('show,', 'so!'), ('made,', 'shade,'), ('day,', 'stay!'), ('thought,', 'brought,'), ('way,', 'stay,'), ('stand', 'land,'), ('thee,', 'be.'), ('thought', 'wrought,'), ('gone,', 'moan.'), ('fire,', 'desire,'), ('abide,', 'slide.'), ('gone', 'alone,'), ('thee,', 'melancholy.'), ('recured,', 'assured,'), ('thee,', 'me.'), ('war,', 'bar,'), ('sight,', 'right,'), ('lie,', 'deny,'), ('eyes)', 'lies.'), ('impanelled', 'determined'), ('heart,', 'part.'), ('took,', 'look,'), ('other,', 'smother;'), ('feast,', 'guest,'), ('heart:', 'part.'), ('love,', 'move,'), ('me,', 'thee.'), ('way,', 'stay'), ('thrust,', 'trust!'), ('are,', 'care,'), ('grief,', 'thief.'), ('chest,', 'breast,'), ('art,', 'part,'), ('come)', 'sum,'), ('defects,', 'respects,'), ('pass,', 'was'), ('eye,', 'gravity;'), ('here', 'uprear,'), ('desert,', 'part,'), ('way,', 'say'), ('end)', \"friend.'\"), ('woe,', 'know'), ('me,', 'thee:'), ('on,', 'groan,'), ('hide,', 'side,'), ('offence,', 'thence?'), ('speed,', 'need.'), ('find,', 'wind,'), ('slow?', 'know,'), ('pace,', 'race,'), ('made)', 'jade,'), ('key,', 'survey,'), ('treasure,', 'pleasure.'), ('rare,', 'are,'), ('set,', 'carcanet.'), ('chest', 'special-blest,'), ('hide,', 'pride.'), ('made,', 'shade,'), ('tend?', 'lend:'), ('counterfeit,', 'set,'), ('you,', 'new:'), ('year,', 'appear,'), ('show,', 'know.'), ('seem,', 'deem'), ('give!', 'live:'), ('dye,', 'wantonly,'), ('roses,', 'discloses:'), ('show,', 'so,'), ('fade,', 'made:'), ('monuments', 'contents'), ('rhyme,', 'time.'), ('overturn,', 'burn:'), ('masonry,', 'memory.'), ('enmity', 'posterity'), ('room,', 'doom.'), ('said', 'allayed,'), ('appetite,', 'might.'), ('fill', 'kill'), ('fulness,', 'dulness:'), ('be', 'see:'), ('new,', 'view.'), ('tend,', 'spend;'), ('desire?', 'require.'), ('hour,', 'sour,'), ('you,', 'adieu.'), ('thought,', 'nought'), ('suppose,', 'those.'), ('slave,', 'crave,'), ('pleasure,', 'leisure.'), ('beck)', 'check,'), ('liberty,', 'injury.'), ('strong,', 'belong,'), ('time', 'crime.'), ('is,', 'amis'), ('beguiled,', 'child!'), ('look,', 'book,'), ('sun,', 'done.'), ('say,', 'they,'), ('frame,', 'same.'), ('shore,', 'before,'), ('end,', 'contend.'), ('light,', 'fight,'), ('crowned,', 'confound.'), ('youth,', 'truth,'), ('brow,', 'mow.'), ('open', 'broken,'), ('night?', 'sight?'), ('thee', 'me,'), ('pry,', 'jealousy?'), ('great,', 'defeat,'), ('awake,', 'sake.'), ('eye,', 'remedy,'), ('part;', 'heart.'), ('mine,', 'define,'), ('account,', 'surmount.'), ('indeed', 'read:'), ('antiquity,', 'iniquity.'), ('now', 'brow'), (\"o'erworn,\", 'morn'), ('night,', 'sight,'), ('king', 'spring:'), ('fortify', 'memory'), ('knife,', 'life.'), ('defaced', 'down-rased,'), ('age,', 'rage.'), ('gain', 'main,'), ('shore,', 'store.'), ('state,', 'ruminate'), ('decay,', 'away.'), ('sea,', 'plea,'), ('power,', 'flower?'), ('out,', 'stout,'), ('days,', 'decays?'), ('alack,', 'back,'), ('hid?', 'forbid?'), ('cry,', 'jollity,'), ('born,', 'forsworn,'), ('misplaced,', 'disgraced,'), ('strumpeted,', 'disabled'), ('authority,', 'simplicity,'), ('skill,', 'ill.'), ('live,', 'achieve,'), ('impiety,', 'society?'), ('cheek,', 'seek,'), ('hue?', 'true?'), ('is,', 'his,'), ('veins,', 'gains?'), ('outworn,', 'born,'), ('now,', 'brow:'), ('dead,', 'head,'), ('away,', 'gay:'), ('seen,', 'green,'), ('true,', 'new,'), ('view,', 'due,'), ('mend:', 'commend.'), ('crowned,', 'confound'), ('own,', 'shown.'), ('mind,', 'kind)'), ('deeds,', 'weeds:'), ('defect,', 'suspect,'), ('fair,', 'air.'), ('approve,', 'love,'), ('time,', 'prime.'), ('days,', 'praise,'), ('charged,', 'enlarged,'), ('dead,', 'fled'), ('bell', 'dwell:'), ('not,', 'forgot,'), ('so,', 'woe.'), ('verse,', 'rehearse;'), ('clay,', 'decay.'), ('recite,', 'quite,'), ('love', 'prove.'), ('lie,', 'i,'), ('desert,', 'impart:'), ('this,', 'is,'), ('untrue,', 'you.'), ('behold,', 'cold,'), ('hang', 'sang.'), ('day,', 'away,'), ('west,', 'rest.'), ('fire,', 'expire,'), ('lie,', 'by.'), ('arrest,', 'interest,'), ('away,', 'stay.'), ('review,', 'due,'), ('thee,', 'me,'), ('life,', 'knife,'), ('dead,', 'remembered,'), ('life,', 'strife'), ('ground;', 'found.'), ('anon', 'alone,'), ('treasure,', 'pleasure,'), ('sight,', 'delight'), ('look,', 'took.'), ('pride?', 'aside'), ('change?', 'strange?'), ('same,', 'name,'), ('weed,', 'proceed?'), ('you,', 'new,'), ('argument:', 'spent:'), ('wear,', 'bear,'), ('waste,', 'taste.'), ('show,', 'know,'), ('memory,', 'eternity.'), ('contain,', 'brain,'), ('find', 'mind.'), ('muse,', 'use,'), ('verse,', 'disperse.'), ('sing,', 'wing,'), ('fly,', 'majesty.'), ('compile,', 'style,'), ('thee,', 'be.'), ('aid,', 'decayed,'), ('grace,', 'place.'), ('argument', 'invent,'), ('pen,', 'again,'), ('word,', 'afford'), ('give', 'live.'), ('write,', 'might,'), ('name,', 'fame.'), ('is)', 'his)'), ('bear,', 'appear.'), ('afloat,', 'boat,'), ('ride,', 'pride.'), ('make,', 'take,'), ('rotten,', 'forgotten.'), ('have,', 'grave,'), ('die,', 'lie,'), ('verse,', 'rehearse,'), (\"o'er-read,\", 'dead,'), ('muse,', 'use'), (\"o'erlook\", 'book.'), ('hue,', 'anew,'), ('praise,', 'days.'), ('devised,', 'sympathized,'), ('lend,', 'friend.'), ('need,', 'exceed,'), ('set,', 'debt:'), ('report,', 'short,'), ('show,', 'grow.'), ('impute,', 'mute,'), ('dumb,', 'tomb.'), ('more,', 'store,'), ('you?', 'grew.'), ('dwell,', 'tell,'), ('glory,', 'story.'), ('writ,', 'wit,'), ('clear,', 'where.'), ('still,', 'quill,'), ('compiled,', 'filed.'), ('words,', 'affords,'), ('amen,', 'pen.'), ('true,', 'you'), ('more,', 'before,'), ('verse,', 'inhearse,'), ('you,', 'grew?'), ('write,', 'night'), ('dead?', 'astonished.'), ('ghost', 'boast,'), ('intelligence,', 'thence.'), ('possessing,', 'releasing:'), ('estimate,', 'determinate.'), ('granting,', 'wanting,'), ('deserving?', 'swerving.'), ('knowing,', 'growing,'), ('mistaking,', 'making.'), ('light,', 'fight,'), ('scorn,', 'forsworn:'), ('acquainted,', 'attainted:'), ('story', 'glory:'), ('too,', 'do,'), ('thee,', 'me.'), ('fault,', 'halt:'), ('offence,', 'defence.'), ('ill,', 'will,'), ('change,', 'strange:'), ('tongue,', 'wronk:'), ('dwell,', 'tell.'), ('now,', 'bow,'), ('cross,', 'after-loss:'), ('sorrow,', 'morrow,'), ('woe,', 'overthrow.'), ('last,', 'taste'), ('spite,', 'might.'), ('skill,', 'ill:'), ('force,', 'horse.'), ('pleasure,', 'measure,'), ('rest,', 'best.'), ('me,', 'be:'), ('costs,', 'boast.'), ('away,', 'stay,'), ('mine,', 'thine.'), ('wrongs,', 'belongs'), ('end,', 'depend.'), ('mind,', 'find,'), ('lie,', 'die!'), ('true,', 'new:'), ('face,', 'place.'), ('eye,', 'history'), ('change,', 'strange.'), ('decree,', 'be,'), ('dwell,', 'tell.'), ('none,', 'stone,'), ('show,', 'slow:'), ('graces,', 'faces,'), ('expense,', 'excellence:'), ('sweet,', 'meet,'), ('die,', 'dignity:'), ('shame,', 'name!'), ('rose,', 'enclose!'), ('days,', 'praise,'), ('sport)', 'report.'), ('got,', 'blot,'), ('thee,', 'see!'), ('wantonness,', 'less:'), ('sport,', 'resort:'), ('queen,', 'seen,'), ('esteemed:', 'deemed.'), ('betray,', 'away,'), ('translate!', 'state!'), ('been', 'seen!'), ('year!', 'everywhere!'), ('time,', 'prime,'), ('increase,', 'decease:'), ('me', 'thee,'), ('fruit,', 'mute.'), ('spring,', 'thing:'), ('trim)', 'him.'), ('smell', 'tell:'), ('hue,', 'grew:'), ('white,', 'delight:'), ('rose,', 'those.'), ('long,', 'song,'), ('might?', 'light?'), ('redeem,', 'esteem,'), ('spent,', 'argument.'), ('survey,', 'decay,'), ('there,', 'everywhere.'), ('amends,', 'depends:'), ('dyed?', 'dignified:'), ('say,', 'lay:'), ('fixed,', \"intermixed'?\"), ('dumb?', 'tomb:'), ('thee,', 'be.'), ('seeming,', 'esteeming,'), ('appear,', 'where.'), ('spring,', 'sing,'), ('lays,', 'days:'), ('now', 'bough,'), ('night,', 'delight.'), ('forth,', 'worth'), ('pride,', 'beside.'), ('write!', 'quite,'), ('face,', 'disgrace.'), ('mend,', 'tend,'), ('well?', 'tell.'), ('old,', 'cold,'), ('eyed,', 'pride,'), ('turned,', 'burned,'), ('seen,', 'green.'), ('hand,', 'stand'), ('perceived,', 'deceived.'), ('idolatry,', 'be'), ('show,', 'so.'), ('kind,', 'confined,'), ('excellence,', 'difference.'), ('argument,', 'spent,'), ('words,', 'affords.'), ('time,', 'rhyme,'), ('wights,', 'knights,'), ('best,', 'expressed,'), ('brow,', 'now.'), ('prophecies', 'eyes,'), ('prefiguring,', 'sing:'), ('soul,', 'control,'), ('come,', 'doom.'), ('endured,', 'assured,'), ('presage,', 'age.'), ('time,', 'rhyme,'), ('subscribes,', 'tribes.'), ('character,', 'register,'), ('spirit,', 'merit?'), ('divine,', 'thine,'), ('same,', 'name.'), ('case,', 'place,'), ('age,', 'page,'), ('heart,', 'depart,'), ('qualify,', 'lie:'), ('ranged,', 'exchanged,'), ('again,', 'stain,'), ('reigned,', 'stained,'), ('blood,', 'good:'), ('there,', 'dear,'), ('view,', 'new.'), ('truth', 'youth,'), ('above,', 'love.'), ('end,', 'friend,'), ('grind', 'confined.'), ('chide,', 'provide,'), ('deeds,', 'breeds.'), ('brand,', 'hand:'), ('subdued', 'renewed,'), ('drink,', 'think,'), ('infection,', 'correction.'), ('fill,', 'ill,'), ('brow,', 'allow?'), ('strive,', 'alive,'), ('tongue,', 'wrong.'), ('care', 'are:'), ('sense,', 'dispense.'), ('mind,', 'blind,'), ('about,', 'out:'), ('heart', 'part,'), ('latch,', 'catch:'), ('sight,', 'night:'), ('creature,', 'feature.'), ('you', 'true,'), ('flattery?', 'alchemy?'), ('indigest,', 'best'), ('resemble,', 'assemble:'), ('seeing,', \"'greeing,\"), ('up,', 'cup.'), ('lie,', 'why,'), ('dearer,', 'clearer,'), ('accidents', 'intents,'), ('kings,', 'things:'), ('tyranny,', 'incertainty,'), (\"best,'\", 'rest?'), ('minds', 'finds,'), ('love', 'remove.'), ('mark', 'bark,'), ('shaken;', 'taken.'), ('cheeks', 'weeks,'), ('come,', 'doom:'), ('all,', 'call,'), ('repay,', 'day,'), ('minds,', 'winds'), ('right,', 'sight.'), ('down,', 'frown,'), ('accumulate,', 'hate:'), ('keen', 'unseen,'), ('urge,', 'purge.'), ('sweetness,', 'meetness,'), ('feeding;', 'needing.'), ('anticipate', 'state'), ('assured,', 'cured.'), ('tears', 'fears,'), ('within,', 'win!'), ('committed,', 'fitted'), ('never!', 'fever!'), ('true', 'anew'), ('better.', 'greater.'), ('now,', 'bow,'), ('feel,', 'steel.'), ('shaken', 'taken'), ('time,', 'crime.'), ('remembered', 'tendered'), ('hits,', 'fits!'), ('esteemed,', 'deemed,'), ('being,', 'seeing.'), ('eyes', 'spies,'), ('blood?', 'good?'), ('level', 'bevel;'), ('own,', 'shown'), ('brain', 'remain'), ('memory,', 'eternity.'), ('heart', 'part'), ('subsist,', 'missed:'), ('hold,', 'bold,'), ('score,', 'more:'), ('change,', 'strange,'), ('might', 'sight:'), ('admire,', 'desire,'), ('old,', 'told:'), ('defy,', 'lie,'), ('past,', 'haste:'), ('state,', 'hate,'), ('unfathered,', 'gathered.'), ('accident,', 'discontent,'), ('falls', 'calls:'), ('heretic,', 'politic,'), ('hours,', 'showers.'), ('canopy,', 'eternity,'), ('honouring,', 'ruining?'), ('favour', 'savour,'), ('rent', 'spent?'), ('heart,', 'art,'), ('free,', 'thee.'), ('fair,', 'heir,'), ('name:', 'shame,'), ('power,', 'bower,'), ('face,', 'disgrace.'), ('black,', 'lack,'), ('seem,', 'esteem,'), (\"play'st,\", \"sway'st\"), ('sounds', 'confounds,'), ('leap,', 'reap,'), ('hand,', 'stand.'), ('state', 'gait,'), ('chips,', 'lips,'), ('shame', 'blame,'), ('lust', 'trust,'), ('straight,', 'bait,'), ('had', 'mad.'), ('so,', 'woe,'), ('extreme,', 'dream.'), ('sun,', 'dun:'), ('red,', 'head:'), ('white,', 'delight,'), ('cheeks,', 'reeks.'), ('know,', 'go,'), ('sound:', 'ground.'), ('art,', 'heart'), ('cruel;', 'jewel.'), ('behold,', 'bold,'), ('groan;', 'alone.'), ('swear,', 'bear'), ('face,', 'place.'), ('me,', 'be,'), ('disdain,', 'pain.'), ('heaven', 'even'), ('east,', 'west'), ('face:', 'grace,'), ('heart', 'part.'), ('groan', 'alone,'), ('me;', 'be?'), ('taken,', 'forsaken,'), ('engrossed,', 'crossed:'), ('ward,', 'guard,'), ('bail,', 'gaol.'), ('thine,', 'mine,'), ('will,', 'still:'), ('free,', 'me,'), ('kind,', 'bind.'), ('take,', 'sake,'), ('use,', 'abuse.'), ('will,', 'still,'), ('over-plus,', 'thus.'), ('spacious,', 'gracious,'), ('thine?', 'shine?'), ('still,', 'will'), ('store,', 'more.'), ('near,', 'there,'), (\"'will',\", 'fulfil.'), ('love,', 'prove,'), ('one,', 'none.'), ('untold,', 'hold,'), ('be,', 'thee.'), ('eyes,', 'lies,'), ('see?', 'be.'), ('looks,', 'hooks,'), ('ride,', 'tied?'), ('plot,', 'not'), ('place?', 'face?'), ('truth,', 'youth,'), ('lies,', 'subtleties.'), ('young,', 'tongue,'), ('best,', 'suppressed:'), ('unjust?', 'trust,'), ('old?', 'told.'), ('wrong,', 'tongue,'), ('heart,', 'art,'), ('sight,', 'might'), ('aside,', 'bide?'), ('knows,', 'foes,'), ('enemies,', 'injuries:'), ('press', 'express,'), ('disdain:', 'pain.'), ('were,', 'near,'), ('so,', 'know.'), ('mad,', 'bad,'), ('thee,', 'be.'), ('eyes,', 'despise,'), ('note,', 'dote.'), ('delighted,', 'invited'), ('prone,', 'alone:'), ('can', 'man,'), ('thee,', 'be:'), ('hate,', 'state,'), ('loving,', 'reproving,'), ('thine,', 'mine,'), ('ornaments,', 'rents.'), ('those,', 'grows,'), ('thee,', 'be.'), ('catch,', 'dispatch'), ('away,', 'stay:'), ('chase,', 'face:'), ('bent,', 'discontent;'), ('thee,', 'me:'), ('behind,', 'kind.'), ('despair,', 'fair:'), ('still,', 'ill.'), ('evil,', 'devil:'), ('side,', 'pride.'), ('fiend,', 'friend,'), ('tell,', 'hell.'), ('earth,', 'dearth'), ('array,', 'gay?'), ('lease,', 'excess'), ('spend?', 'end?'), ('loss,', 'dross;'), ('store;', 'more,'), ('still,', 'ill,'), ('disease,', 'please:'), ('love,', 'approve,'), ('kept', 'except.'), ('care,', 'are,'), ('unrest,', 'expressed.'), ('head,', 'fled,'), ('sight,', 'aright?'), ('dote,', 'denote,'), ('so?', 'no,'), ('true,', 'view,'), ('tears?', 'clears.'), ('not,', 'forgot'), ('partake?', 'sake?'), ('friend,', 'spend'), ('upon,', 'moan?'), ('respect,', 'defect,'), ('despise,', 'eyes?'), ('might,', 'sight,'), ('sway,', 'day?'), ('ill,', 'skill,'), ('deeds,', 'exceeds?'), ('more,', 'abhor,'), ('hate?', 'state.'), ('is,', 'amiss,'), ('love?', 'prove.'), ('betray', 'may,'), ('treason,', 'reason,'), ('thee,', 'be,'), ('pride,', 'side.'), ('forsworn,', 'torn,'), ('swearing,', 'bearing:'), ('thee,', 'thee:'), ('most,', 'lost.'), ('kindness:', 'blindness,'), ('constancy,', 'see.'), ('asleep,', 'steep'), ('found,', 'ground:'), ('love,', 'prove,'), ('endure,', 'cure:'), ('new-fired,', 'desired,'), ('breast,', 'guest.'), ('asleep,', 'keep,'), ('brand,', 'hand,'), ('fire,', 'desire,'), ('warmed,', 'disarmed.'), ('by,', 'remedy,'), ('perpetual,', 'thrall,')]\n"
     ]
    }
   ],
   "source": [
    "q_rhyme, c_rhyme = hh.gen_rhyme_lists()\n",
    "print q_rhyme"
   ]
  },
  {
   "cell_type": "code",
   "execution_count": 87,
   "metadata": {
    "collapsed": false
   },
   "outputs": [
    {
     "name": "stdout",
     "output_type": "stream",
     "text": [
      "arising imprisoned to story time.\n"
     ]
    }
   ],
   "source": [
    "# Try generating a seeded line.\n",
    "inv_q_wm = {v: k for k, v in q_wm.items()}\n",
    "test_line = hh.gen_txt_rhyme(q_trans, q_emiss, inv_q_wm, q_wm, syll_dict, stress_dict, 'time.')\n",
    "print test_line"
   ]
  },
  {
   "cell_type": "code",
   "execution_count": 170,
   "metadata": {
    "collapsed": false
   },
   "outputs": [
    {
     "name": "stdout",
     "output_type": "stream",
     "text": [
      "respose for best i many, worthless there,\n",
      "contracted shall by distillation there,\n",
      "enjoyed thy looks or hawks of powers there,\n",
      "assistance now what novel, sweetness there,\n",
      "these ceremony beside other there,\n",
      "in thought the unkind, a acquaintance there,\n",
      "the injuries which eyes the happy there,\n",
      "not medicine of self-substantial there,\n",
      "extremity slight you am win lips there,\n",
      "in make the grecian fire the motion there,\n",
      "against the blow untainted double there,\n",
      "of blood came policy the sunken there,\n",
      "of blood came policy the sunken there,\n",
      "abide, to dust have thither let speak, action, \n"
     ]
    }
   ],
   "source": [
    "# Try generarting a seeded line with backwards models.\n",
    "trans, emiss, wm, init = hh.load_model('100-state-rev-lines')\n",
    "inv_wm = {v: k for k, v in wm.items()}\n",
    "for i in range(12):\n",
    "    test_line1 = hh.gen_txt_rhyme2(trans, emiss, inv_wm, wm, syll_dict, stress_dict, 'there,')\n",
    "    print test_line1\n",
    "test_line2, state = hh.gen_txt(trans, emiss, init, wm, syll_dict, stress_dict)\n",
    "print test_line1\n",
    "print test_line2"
   ]
  },
  {
   "cell_type": "code",
   "execution_count": 180,
   "metadata": {
    "collapsed": false
   },
   "outputs": [
    {
     "name": "stdout",
     "output_type": "stream",
     "text": [
      "162\n",
      "[('be,', 'thee.'), ('old,', 'cold.'), ('be,', 'thee.'), ('thee,', 'be.'), ('meet,', 'sweet.'), ('fair,', 'heir.'), ('noon:', 'son.'), ('one,', \"none'.\"), ('sits', 'commits.'), ('me,', 'thee.'), ('thereby,', 'die.'), ('defence', 'hence.'), ('know,', 'so.'), ('prognosticate,', 'date.'), ('you,', 'new.'), ('still,', 'skill.'), ('time,', 'rhyme.'), ('see,', 'thee.'), ('wrong,', 'young.'), ('pleasure,', 'treasure.'), ('well,', 'sell.'), ('slain,', 'again.'), ('writ,', 'wit.'), ('art,', 'heart.'), ('beloved', 'removed.'), ('thee,', 'me.'), ('mind,', 'find.'), ('longer,', 'stronger'), ('brings,', 'kings.'), ('friend)', 'end.'), ('thee,', 'me.'), ('prove,', \"love'.\"), ('disdaineth,', 'staineth.'), ('sheds,', 'deeds.'), ('be,', 'me.'), ('sort,', 'report.'), ('thee,', 'me.'), ('days,', 'praise.'), ('twain,', 'remain.'), ('shows,', 'foes.'), ('thee,', 'me.'), ('one,', 'alone.'), ('thee,', 'me.'), ('slow,', 'woe.'), ('glad,', 'sad.'), ('part,', 'heart.'), ('sight', 'delight.'), ('fear,', 'dear.'), ('laws,', 'cause.'), ('mind,', 'behind.'), ('wilful-slow,', 'go.'), ('scope,', 'hope.'), ('part,', 'heart.'), ('youth,', 'truth.'), ('arise,', 'eyes.'), ('care,', 'rare.'), ('will,', 'ill.'), ('hell,', 'well.'), ('days,', 'praise.'), ('stand', 'hand.'), ('elsewhere,', 'near.'), ('praise,', 'days.'), ('seen,', 'green.'), ('choose', 'lose.'), ('might,', 'bright.'), ('gone,', 'alone.'), ('had,', 'bad.'), ('store,', 'yore.'), ('show,', 'grow.'), ('show,', 'owe.'), ('moan,', 'gone.'), ('forth,', 'worth.'), ('strong,', 'long.'), ('contains,', 'remains.'), ('day,', 'away.'), ('old,', 'told.'), ('look,', 'book.'), ('advance', 'ignorance.'), ('say,', 'pay.'), ('away,', 'decay.'), ('pen)', 'men.'), ('used,', 'abused.'), ('eyes,', 'devise.'), ('curse,', 'worse.'), ('respect,', 'effect.'), ('line,', 'mine.'), ('flatter,', 'matter.'), ('belong,', 'wrong.'), ('debate,', 'hate.'), ('woe,', 'so.'), ('take,', 'make.'), ('blot?', 'not.'), ('grow,', 'show.'), ('deeds,', 'weeds.'), ('privilege,', 'edge.'), ('sort,', 'report.'), ('cheer,', 'near.'), ('away,', 'play.'), ('life,', 'knife.'), ('how,', 'now.'), ('tongue:', 'song.'), ('sit,', 'it.'), ('unbred,', 'dead.'), ('alone.', 'one.'), ('days,', 'praise.'), ('monument,', 'spent.'), ('bred,', 'dead.'), ('call,', 'all.'), ('best,', 'breast.'), ('ye,', 'me.'), ('bred,', 'dead.'), ('you,', 'untrue.'), ('sin,', 'begin.'), ('so', 'grow.'), ('proved,', 'loved.'), ('prove', 'love.'), ('true,', 'you.'), ('content,', 'spent.'), ('fee,', 'me.'), ('maintain,', 'reign.'), ('thee', 'me.'), ('be,', 'thee.'), ('time,', 'crime.'), ('soul', 'control.'), ('woe,', 'so.'), ('this,', 'kiss.'), ('well,', 'hell.'), ('rare,', 'compare.'), ('deeds,', 'proceeds.'), ('black,', 'lack.'), ('thee,', 'me.'), ('me,', 'free.'), ('kill,', \"'will.'\"), ('still,', 'will.'), ('erred,', 'transferred.'), ('me,', 'be.'), ('slain,', 'pain.'), ('belied,', 'wide.'), ('gain,', 'pain.'), ('hide,', 'denied.'), ('will,', 'still.'), ('doubt,', 'out.'), ('men,', 'then.'), ('bright,', 'night.'), ('blind,', 'find.'), ('mind,', 'blind.'), ('me,', 'thee.'), ('call,', 'fall.'), ('i,', 'be.'), ('lies,', 'eyes.'), ('prove,', 'love.')]\n"
     ]
    }
   ],
   "source": [
    "q_rhyme, c_rhyme = hh.gen_rhyme_lists()\n",
    "rhymes = np.random.choice(len(q_rhyme))\n",
    "print rhymes\n",
    "print c_rhyme"
   ]
  },
  {
   "cell_type": "code",
   "execution_count": 223,
   "metadata": {
    "collapsed": false
   },
   "outputs": [
    {
     "ename": "KeyError",
     "evalue": "\"'will\"",
     "output_type": "error",
     "traceback": [
      "\u001b[1;31m---------------------------------------------------------------------------\u001b[0m",
      "\u001b[1;31mKeyError\u001b[0m                                  Traceback (most recent call last)",
      "\u001b[1;32m<ipython-input-223-df6e2a6c721d>\u001b[0m in \u001b[0;36m<module>\u001b[1;34m()\u001b[0m\n\u001b[0;32m      3\u001b[0m \u001b[0mtrans\u001b[0m\u001b[1;33m,\u001b[0m \u001b[0memiss\u001b[0m\u001b[1;33m,\u001b[0m \u001b[0mwm\u001b[0m\u001b[1;33m,\u001b[0m \u001b[0minit\u001b[0m \u001b[1;33m=\u001b[0m \u001b[0mhh\u001b[0m\u001b[1;33m.\u001b[0m\u001b[0mload_model\u001b[0m\u001b[1;33m(\u001b[0m\u001b[1;34m'20-state-rev-lines'\u001b[0m\u001b[1;33m)\u001b[0m\u001b[1;33m\u001b[0m\u001b[0m\n\u001b[0;32m      4\u001b[0m \u001b[0minv_wm\u001b[0m \u001b[1;33m=\u001b[0m \u001b[1;33m{\u001b[0m\u001b[0mv\u001b[0m\u001b[1;33m:\u001b[0m \u001b[0mk\u001b[0m \u001b[1;32mfor\u001b[0m \u001b[0mk\u001b[0m\u001b[1;33m,\u001b[0m \u001b[0mv\u001b[0m \u001b[1;32min\u001b[0m \u001b[0mwm\u001b[0m\u001b[1;33m.\u001b[0m\u001b[0mitems\u001b[0m\u001b[1;33m(\u001b[0m\u001b[1;33m)\u001b[0m\u001b[1;33m}\u001b[0m\u001b[1;33m\u001b[0m\u001b[0m\n\u001b[1;32m----> 5\u001b[1;33m \u001b[0mpoem\u001b[0m \u001b[1;33m=\u001b[0m \u001b[0mhh\u001b[0m\u001b[1;33m.\u001b[0m\u001b[0mgen_poem_rhyme1\u001b[0m\u001b[1;33m(\u001b[0m\u001b[0mtrans\u001b[0m\u001b[1;33m,\u001b[0m \u001b[0memiss\u001b[0m\u001b[1;33m,\u001b[0m \u001b[0mwm\u001b[0m\u001b[1;33m,\u001b[0m \u001b[0minv_wm\u001b[0m\u001b[1;33m)\u001b[0m\u001b[1;33m\u001b[0m\u001b[0m\n\u001b[0m\u001b[0;32m      6\u001b[0m \u001b[1;32mprint\u001b[0m \u001b[0mpoem\u001b[0m\u001b[1;33m\u001b[0m\u001b[0m\n",
      "\u001b[1;32mC:\\Users\\Activate\\Desktop\\CS 155\\Miniproject 2\\hmm_helper.py\u001b[0m in \u001b[0;36mgen_poem_rhyme1\u001b[1;34m(trans, emiss, wm, iwm)\u001b[0m\n\u001b[0;32m    355\u001b[0m                                              syll_dict, stress_dict, end0))\n\u001b[0;32m    356\u001b[0m         qline1 = post_process(gen_txt_rhyme2(trans, emiss, iwm, wm, \n\u001b[1;32m--> 357\u001b[1;33m                                              syll_dict, stress_dict, end1))\n\u001b[0m\u001b[0;32m    358\u001b[0m         qline2 = post_process(gen_txt_rhyme2(trans, emiss, iwm, wm, \n\u001b[0;32m    359\u001b[0m                                              syll_dict, stress_dict, end2))\n",
      "\u001b[1;32mC:\\Users\\Activate\\Desktop\\CS 155\\Miniproject 2\\hmm_helper.py\u001b[0m in \u001b[0;36mgen_txt_rhyme2\u001b[1;34m(trans, emiss, wti_map, itw_map, syll_dict, stress_dict, seed, length)\u001b[0m\n\u001b[0;32m    307\u001b[0m         \u001b[0mcurr_state\u001b[0m \u001b[1;33m=\u001b[0m \u001b[0mbest_state\u001b[0m\u001b[1;33m\u001b[0m\u001b[0m\n\u001b[0;32m    308\u001b[0m         \u001b[0mbuild\u001b[0m \u001b[1;33m=\u001b[0m \u001b[0mseed\u001b[0m\u001b[1;33m\u001b[0m\u001b[0m\n\u001b[1;32m--> 309\u001b[1;33m         \u001b[1;32mwhile\u001b[0m \u001b[0mcount_syllables_stress\u001b[0m\u001b[1;33m(\u001b[0m\u001b[0mbuild\u001b[0m\u001b[1;33m,\u001b[0m \u001b[0msyll_dict\u001b[0m\u001b[1;33m,\u001b[0m \u001b[0mstress_dict\u001b[0m\u001b[1;33m)\u001b[0m\u001b[1;33m[\u001b[0m\u001b[1;36m0\u001b[0m\u001b[1;33m]\u001b[0m \u001b[1;33m<\u001b[0m \u001b[1;36m10\u001b[0m\u001b[1;33m:\u001b[0m\u001b[1;33m\u001b[0m\u001b[0m\n\u001b[0m\u001b[0;32m    310\u001b[0m             \u001b[1;31m# Go to next state.\u001b[0m\u001b[1;33m\u001b[0m\u001b[1;33m\u001b[0m\u001b[0m\n\u001b[0;32m    311\u001b[0m             \u001b[0mcurr_state\u001b[0m \u001b[1;33m=\u001b[0m \u001b[0mnp\u001b[0m\u001b[1;33m.\u001b[0m\u001b[0mrandom\u001b[0m\u001b[1;33m.\u001b[0m\u001b[0mchoice\u001b[0m\u001b[1;33m(\u001b[0m\u001b[0mnum_states\u001b[0m\u001b[1;33m,\u001b[0m \u001b[0mp\u001b[0m\u001b[1;33m=\u001b[0m\u001b[0mtrans\u001b[0m\u001b[1;33m[\u001b[0m\u001b[0mint\u001b[0m\u001b[1;33m(\u001b[0m\u001b[0mcurr_state\u001b[0m\u001b[1;33m)\u001b[0m\u001b[1;33m]\u001b[0m\u001b[1;33m)\u001b[0m\u001b[1;33m\u001b[0m\u001b[0m\n",
      "\u001b[1;32mC:\\Users\\Activate\\Desktop\\CS 155\\Miniproject 2\\hmm_helper.py\u001b[0m in \u001b[0;36mcount_syllables_stress\u001b[1;34m(line, syll_dict, stress_dict)\u001b[0m\n\u001b[0;32m    245\u001b[0m         \u001b[0mword\u001b[0m \u001b[1;33m=\u001b[0m \u001b[0mword\u001b[0m\u001b[1;33m.\u001b[0m\u001b[0mrstrip\u001b[0m\u001b[1;33m(\u001b[0m\u001b[1;34m'.,?!;:()'\u001b[0m\u001b[1;33m)\u001b[0m\u001b[1;33m.\u001b[0m\u001b[0mlstrip\u001b[0m\u001b[1;33m(\u001b[0m\u001b[1;34m'('\u001b[0m\u001b[1;33m)\u001b[0m\u001b[1;33m\u001b[0m\u001b[0m\n\u001b[0;32m    246\u001b[0m         \u001b[1;32mif\u001b[0m \u001b[0mword\u001b[0m \u001b[1;33m!=\u001b[0m \u001b[1;34m''\u001b[0m\u001b[1;33m:\u001b[0m\u001b[1;33m\u001b[0m\u001b[0m\n\u001b[1;32m--> 247\u001b[1;33m             \u001b[0mcount\u001b[0m \u001b[1;33m+=\u001b[0m \u001b[0msyll_dict\u001b[0m\u001b[1;33m[\u001b[0m\u001b[0mword\u001b[0m\u001b[1;33m]\u001b[0m\u001b[1;33m\u001b[0m\u001b[0m\n\u001b[0m\u001b[0;32m    248\u001b[0m             \u001b[1;32mif\u001b[0m \u001b[0mstress_dict\u001b[0m\u001b[1;33m[\u001b[0m\u001b[0mword\u001b[0m\u001b[1;33m]\u001b[0m \u001b[1;33m!=\u001b[0m \u001b[0mcurr_stress\u001b[0m\u001b[1;33m:\u001b[0m\u001b[1;33m\u001b[0m\u001b[0m\n\u001b[0;32m    249\u001b[0m                 \u001b[0mstress\u001b[0m \u001b[1;33m=\u001b[0m \u001b[0mFalse\u001b[0m\u001b[1;33m\u001b[0m\u001b[0m\n",
      "\u001b[1;31mKeyError\u001b[0m: \"'will\""
     ]
    }
   ],
   "source": [
    "# Generate with backward models!\n",
    "#####################################################\n",
    "trans, emiss, wm, init = hh.load_model('20-state-rev-lines')\n",
    "inv_wm = {v: k for k, v in wm.items()}\n",
    "poem = hh.gen_poem_rhyme1(trans, emiss, wm, inv_wm)\n",
    "print poem"
   ]
  },
  {
   "cell_type": "code",
   "execution_count": 176,
   "metadata": {
    "collapsed": false
   },
   "outputs": [
    {
     "ename": "KeyboardInterrupt",
     "evalue": "",
     "output_type": "error",
     "traceback": [
      "\u001b[1;31m---------------------------------------------------------------------------\u001b[0m",
      "\u001b[1;31mKeyboardInterrupt\u001b[0m                         Traceback (most recent call last)",
      "\u001b[1;32m<ipython-input-176-7efa846df581>\u001b[0m in \u001b[0;36m<module>\u001b[1;34m()\u001b[0m\n\u001b[0;32m      4\u001b[0m \u001b[0mend1\u001b[0m \u001b[1;33m=\u001b[0m \u001b[0mq_rhyme\u001b[0m\u001b[1;33m[\u001b[0m\u001b[0mrhymes\u001b[0m\u001b[1;33m[\u001b[0m\u001b[1;36m0\u001b[0m\u001b[1;33m]\u001b[0m\u001b[1;33m]\u001b[0m\u001b[1;33m[\u001b[0m\u001b[1;36m0\u001b[0m\u001b[1;33m]\u001b[0m\u001b[1;33m\u001b[0m\u001b[0m\n\u001b[0;32m      5\u001b[0m qline0 = hh.gen_txt_rhyme2(trans, emiss, inv_wm, wm, \n\u001b[1;32m----> 6\u001b[1;33m                            syll_dict, stress_dict, q_rhyme[rhymes[0]][0])\n\u001b[0m\u001b[0;32m      7\u001b[0m \u001b[1;32mprint\u001b[0m \u001b[0mqline0\u001b[0m\u001b[1;33m\u001b[0m\u001b[0m\n",
      "\u001b[1;32mC:\\Users\\Activate\\Desktop\\CS 155\\Miniproject 2\\hmm_helper.pyc\u001b[0m in \u001b[0;36mgen_txt_rhyme2\u001b[1;34m(trans, emiss, wti_map, itw_map, syll_dict, stress_dict, seed, length)\u001b[0m\n\u001b[0;32m    269\u001b[0m             \u001b[1;31m# Go to next state.\u001b[0m\u001b[1;33m\u001b[0m\u001b[1;33m\u001b[0m\u001b[0m\n\u001b[0;32m    270\u001b[0m             \u001b[0mcurr_state\u001b[0m \u001b[1;33m=\u001b[0m \u001b[0mnp\u001b[0m\u001b[1;33m.\u001b[0m\u001b[0mrandom\u001b[0m\u001b[1;33m.\u001b[0m\u001b[0mchoice\u001b[0m\u001b[1;33m(\u001b[0m\u001b[0mnum_states\u001b[0m\u001b[1;33m,\u001b[0m \u001b[0mp\u001b[0m\u001b[1;33m=\u001b[0m\u001b[0mtrans\u001b[0m\u001b[1;33m[\u001b[0m\u001b[0mint\u001b[0m\u001b[1;33m(\u001b[0m\u001b[0mcurr_state\u001b[0m\u001b[1;33m)\u001b[0m\u001b[1;33m]\u001b[0m\u001b[1;33m)\u001b[0m\u001b[1;33m\u001b[0m\u001b[0m\n\u001b[1;32m--> 271\u001b[1;33m             \u001b[0mnxt_token\u001b[0m \u001b[1;33m=\u001b[0m \u001b[0mint\u001b[0m\u001b[1;33m(\u001b[0m\u001b[0mnp\u001b[0m\u001b[1;33m.\u001b[0m\u001b[0mrandom\u001b[0m\u001b[1;33m.\u001b[0m\u001b[0mchoice\u001b[0m\u001b[1;33m(\u001b[0m\u001b[0mnum_words\u001b[0m\u001b[1;33m,\u001b[0m \u001b[0mp\u001b[0m\u001b[1;33m=\u001b[0m\u001b[0memiss\u001b[0m\u001b[1;33m[\u001b[0m\u001b[0mint\u001b[0m\u001b[1;33m(\u001b[0m\u001b[0mcurr_state\u001b[0m\u001b[1;33m)\u001b[0m\u001b[1;33m]\u001b[0m\u001b[1;33m)\u001b[0m\u001b[1;33m)\u001b[0m\u001b[1;33m\u001b[0m\u001b[0m\n\u001b[0m\u001b[0;32m    272\u001b[0m             \u001b[0mword\u001b[0m \u001b[1;33m=\u001b[0m \u001b[0mitw_map\u001b[0m\u001b[1;33m[\u001b[0m\u001b[0mnxt_token\u001b[0m\u001b[1;33m]\u001b[0m\u001b[1;33m\u001b[0m\u001b[0m\n\u001b[0;32m    273\u001b[0m             \u001b[0mbuild\u001b[0m \u001b[1;33m=\u001b[0m \u001b[0mword\u001b[0m \u001b[1;33m+\u001b[0m \u001b[1;34m' '\u001b[0m \u001b[1;33m+\u001b[0m \u001b[0mbuild\u001b[0m\u001b[1;33m\u001b[0m\u001b[0m\n",
      "\u001b[1;31mKeyboardInterrupt\u001b[0m: "
     ]
    }
   ],
   "source": [
    "syll_dict, stress_dict = hh.load_syll_stress_dicts()\n",
    "q_rhyme, c_rhyme = hh.gen_rhyme_lists()\n",
    "rhymes = np.random.choice(len(q_rhyme), 2)\n",
    "end1 = q_rhyme[rhymes[0]][0]\n",
    "qline0 = hh.gen_txt_rhyme2(trans, emiss, inv_wm, wm, \n",
    "                           syll_dict, stress_dict, q_rhyme[rhymes[0]][0])\n",
    "print qline0"
   ]
  },
  {
   "cell_type": "code",
   "execution_count": 163,
   "metadata": {
    "collapsed": false
   },
   "outputs": [
    {
     "name": "stdout",
     "output_type": "stream",
     "text": [
      "('there,', 'where:') ('veins,', 'gains?')\n"
     ]
    }
   ],
   "source": [
    "syll_dict, stress_dict = hh.load_syll_stress_dicts()\n",
    "q_rhyme, c_rhyme = hh.gen_rhyme_lists()\n",
    "rhymes = np.random.choice(len(q_rhyme), 2)\n",
    "print q_rhyme[rhymes[0]], q_rhyme[rhymes[1]]"
   ]
  },
  {
   "cell_type": "code",
   "execution_count": 225,
   "metadata": {
    "collapsed": false
   },
   "outputs": [
    {
     "ename": "KeyError",
     "evalue": "\"'will\"",
     "output_type": "error",
     "traceback": [
      "\u001b[1;31m---------------------------------------------------------------------------\u001b[0m",
      "\u001b[1;31mKeyError\u001b[0m                                  Traceback (most recent call last)",
      "\u001b[1;32m<ipython-input-225-424cd3394473>\u001b[0m in \u001b[0;36m<module>\u001b[1;34m()\u001b[0m\n\u001b[1;32m----> 1\u001b[1;33m \u001b[0mstress_dict\u001b[0m\u001b[1;33m[\u001b[0m\u001b[1;34m\"'will\"\u001b[0m\u001b[1;33m]\u001b[0m\u001b[1;33m\u001b[0m\u001b[0m\n\u001b[0m",
      "\u001b[1;31mKeyError\u001b[0m: \"'will\""
     ]
    }
   ],
   "source": [
    "stress_dict[\"'will\"]"
   ]
  },
  {
   "cell_type": "code",
   "execution_count": 258,
   "metadata": {
    "collapsed": false
   },
   "outputs": [
    {
     "name": "stdout",
     "output_type": "stream",
     "text": [
      "Nativity to full I beauties pipe \n",
      "He thou the coward buds of dwell thus thou \n",
      "As thou those muse but a self canker all \n",
      "Doth sober in play to grace they gav'st \n",
      "Making for fled, I flatterer my heart \n",
      "Perfection white friend thou did born then be \n",
      "Yellow whilst afterwards of most, than why \n",
      "To every painting and a without \n",
      "Whilst me which windows slumbers yet did buried, \n",
      "Having thee, mine to soul the lays your thoughts \n",
      "Reason the me. To every which thoughts \n",
      "Lips, others' ceremony youthful kind \n",
      "Since me to that and so of swear dreading \n",
      "Shine father, all assure out-going it \n",
      "\n"
     ]
    }
   ],
   "source": [
    "import poem_gen as pg\n",
    "poem = pg.gpoem_qac_models('30-states-full')\n",
    "print poem"
   ]
  },
  {
   "cell_type": "code",
   "execution_count": 266,
   "metadata": {
    "collapsed": false
   },
   "outputs": [
    {
     "name": "stdout",
     "output_type": "stream",
     "text": [
      "That I will they knowledge on this wary,\n",
      "Unthrifty and a celestial aspect,\n",
      "Than is then to nor not on with chary\n",
      "Thy trespass doth reeleth our true respect,\n",
      "What thou is but want is with as o'erworn,\n",
      "Shall I be or that thou have the and view,\n",
      "And look confessed I not when thou wouldst morn\n",
      "I against the physician of still due,\n",
      "And I when absence self-loving in herd\n",
      "Gentle youthful eye our foot memory,\n",
      "I hold me yellow mind and they small beard:\n",
      "Better drawn my scythe they eternity.\n",
      "Of live, neither I side I you were thee,\n",
      "Strong my shadow some to divided me.\n",
      "\n"
     ]
    }
   ],
   "source": [
    "poem = pg.gpoem_rev_models('30-state-rev-lines')\n",
    "print poem"
   ]
  },
  {
   "cell_type": "code",
   "execution_count": 273,
   "metadata": {
    "collapsed": false
   },
   "outputs": [],
   "source": [
    "count_dict = hh.gen_count_dict()"
   ]
  },
  {
   "cell_type": "code",
   "execution_count": null,
   "metadata": {
    "collapsed": true
   },
   "outputs": [],
   "source": []
  }
 ],
 "metadata": {
  "kernelspec": {
   "display_name": "Python 2",
   "language": "python",
   "name": "python2"
  },
  "language_info": {
   "codemirror_mode": {
    "name": "ipython",
    "version": 2
   },
   "file_extension": ".py",
   "mimetype": "text/x-python",
   "name": "python",
   "nbconvert_exporter": "python",
   "pygments_lexer": "ipython2",
   "version": "2.7.11"
  }
 },
 "nbformat": 4,
 "nbformat_minor": 0
}
